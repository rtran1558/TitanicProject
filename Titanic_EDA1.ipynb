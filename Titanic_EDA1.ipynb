{
 "cells": [
  {
   "cell_type": "code",
   "execution_count": 27,
   "metadata": {},
   "outputs": [],
   "source": [
    "import numpy as np\n",
    "import matplotlib.pyplot as plt\n",
    "import seaborn as sns\n",
    "import pandas as pd\n",
    "from matplotlib import pyplot as plt\n",
    "from matplotlib import style"
   ]
  },
  {
   "cell_type": "code",
   "execution_count": 28,
   "metadata": {},
   "outputs": [
    {
     "data": {
      "text/html": [
       "<script>\n",
       "code_show=true;\n",
       "function code_toggle() {\n",
       "if (code_show){\n",
       "$('div.input').hide();\n",
       "} else {\n",
       "$('div.input').show();\n",
       "}\n",
       "code_show = !code_show\n",
       "}\n",
       "$( document ).ready(code_toggle);\n",
       "</script>\n",
       "<form action=\"javascript:code_toggle()\"><input type=\"submit\" value=\"Click here to toggle on/off the raw code.\"></form>"
      ],
      "text/plain": [
       "<IPython.core.display.HTML object>"
      ]
     },
     "execution_count": 28,
     "metadata": {},
     "output_type": "execute_result"
    }
   ],
   "source": [
    "from IPython.display import HTML\n",
    "\n",
    "HTML('''<script>\n",
    "code_show=true;\n",
    "function code_toggle() {\n",
    "if (code_show){\n",
    "$('div.input').hide();\n",
    "} else {\n",
    "$('div.input').show();\n",
    "}\n",
    "code_show = !code_show\n",
    "}\n",
    "$( document ).ready(code_toggle);\n",
    "</script>\n",
    "<form action=\"javascript:code_toggle()\"><input type=\"submit\" value=\"Click here to toggle on/off the raw code.\"></form>''')"
   ]
  },
  {
   "cell_type": "markdown",
   "metadata": {},
   "source": [
    "# Titanic Project"
   ]
  },
  {
   "cell_type": "markdown",
   "metadata": {},
   "source": [
    "### What does the data look like?"
   ]
  },
  {
   "cell_type": "code",
   "execution_count": 29,
   "metadata": {},
   "outputs": [
    {
     "name": "stdout",
     "output_type": "stream",
     "text": [
      "(891, 12)\n",
      "PassengerId    891\n",
      "Survived       891\n",
      "Pclass         891\n",
      "Name           891\n",
      "Sex            891\n",
      "Age            714\n",
      "SibSp          891\n",
      "Parch          891\n",
      "Ticket         891\n",
      "Fare           891\n",
      "Cabin          204\n",
      "Embarked       889\n",
      "dtype: int64\n"
     ]
    }
   ],
   "source": [
    "#Read original data set\n",
    "original_df = pd.read_csv('Data/Titanic_Data.csv')\n",
    "print(original_df.shape)\n",
    "print(original_df.count())"
   ]
  },
  {
   "cell_type": "code",
   "execution_count": 30,
   "metadata": {},
   "outputs": [],
   "source": [
    "#Drop the Cabin column because too many missing values\n",
    "original_df = original_df.drop(labels=None, axis=0,\n",
    "index=None, columns='Cabin', level=None, inplace=False, errors='raise')"
   ]
  },
  {
   "cell_type": "code",
   "execution_count": 31,
   "metadata": {},
   "outputs": [
    {
     "data": {
      "text/html": [
       "<div>\n",
       "<style scoped>\n",
       "    .dataframe tbody tr th:only-of-type {\n",
       "        vertical-align: middle;\n",
       "    }\n",
       "\n",
       "    .dataframe tbody tr th {\n",
       "        vertical-align: top;\n",
       "    }\n",
       "\n",
       "    .dataframe thead th {\n",
       "        text-align: right;\n",
       "    }\n",
       "</style>\n",
       "<table border=\"1\" class=\"dataframe\">\n",
       "  <thead>\n",
       "    <tr style=\"text-align: right;\">\n",
       "      <th></th>\n",
       "      <th>PassengerId</th>\n",
       "      <th>Survived</th>\n",
       "      <th>Pclass</th>\n",
       "      <th>Name</th>\n",
       "      <th>Sex</th>\n",
       "      <th>Age</th>\n",
       "      <th>SibSp</th>\n",
       "      <th>Parch</th>\n",
       "      <th>Ticket</th>\n",
       "      <th>Fare</th>\n",
       "      <th>Embarked</th>\n",
       "    </tr>\n",
       "  </thead>\n",
       "  <tbody>\n",
       "    <tr>\n",
       "      <th>472</th>\n",
       "      <td>473</td>\n",
       "      <td>1</td>\n",
       "      <td>2</td>\n",
       "      <td>West, Mrs. Edwy Arthur (Ada Mary Worth)</td>\n",
       "      <td>female</td>\n",
       "      <td>33.0</td>\n",
       "      <td>1</td>\n",
       "      <td>2</td>\n",
       "      <td>C.A. 34651</td>\n",
       "      <td>27.7500</td>\n",
       "      <td>S</td>\n",
       "    </tr>\n",
       "    <tr>\n",
       "      <th>152</th>\n",
       "      <td>153</td>\n",
       "      <td>0</td>\n",
       "      <td>3</td>\n",
       "      <td>Meo, Mr. Alfonzo</td>\n",
       "      <td>male</td>\n",
       "      <td>55.5</td>\n",
       "      <td>0</td>\n",
       "      <td>0</td>\n",
       "      <td>A.5. 11206</td>\n",
       "      <td>8.0500</td>\n",
       "      <td>S</td>\n",
       "    </tr>\n",
       "    <tr>\n",
       "      <th>73</th>\n",
       "      <td>74</td>\n",
       "      <td>0</td>\n",
       "      <td>3</td>\n",
       "      <td>Chronopoulos, Mr. Apostolos</td>\n",
       "      <td>male</td>\n",
       "      <td>26.0</td>\n",
       "      <td>1</td>\n",
       "      <td>0</td>\n",
       "      <td>2680</td>\n",
       "      <td>14.4542</td>\n",
       "      <td>C</td>\n",
       "    </tr>\n",
       "    <tr>\n",
       "      <th>146</th>\n",
       "      <td>147</td>\n",
       "      <td>1</td>\n",
       "      <td>3</td>\n",
       "      <td>Andersson, Mr. August Edvard (\"Wennerstrom\")</td>\n",
       "      <td>male</td>\n",
       "      <td>27.0</td>\n",
       "      <td>0</td>\n",
       "      <td>0</td>\n",
       "      <td>350043</td>\n",
       "      <td>7.7958</td>\n",
       "      <td>S</td>\n",
       "    </tr>\n",
       "    <tr>\n",
       "      <th>799</th>\n",
       "      <td>800</td>\n",
       "      <td>0</td>\n",
       "      <td>3</td>\n",
       "      <td>Van Impe, Mrs. Jean Baptiste (Rosalie Paula Go...</td>\n",
       "      <td>female</td>\n",
       "      <td>30.0</td>\n",
       "      <td>1</td>\n",
       "      <td>1</td>\n",
       "      <td>345773</td>\n",
       "      <td>24.1500</td>\n",
       "      <td>S</td>\n",
       "    </tr>\n",
       "  </tbody>\n",
       "</table>\n",
       "</div>"
      ],
      "text/plain": [
       "     PassengerId  Survived  Pclass  \\\n",
       "472          473         1       2   \n",
       "152          153         0       3   \n",
       "73            74         0       3   \n",
       "146          147         1       3   \n",
       "799          800         0       3   \n",
       "\n",
       "                                                  Name     Sex   Age  SibSp  \\\n",
       "472            West, Mrs. Edwy Arthur (Ada Mary Worth)  female  33.0      1   \n",
       "152                                   Meo, Mr. Alfonzo    male  55.5      0   \n",
       "73                         Chronopoulos, Mr. Apostolos    male  26.0      1   \n",
       "146       Andersson, Mr. August Edvard (\"Wennerstrom\")    male  27.0      0   \n",
       "799  Van Impe, Mrs. Jean Baptiste (Rosalie Paula Go...  female  30.0      1   \n",
       "\n",
       "     Parch      Ticket     Fare Embarked  \n",
       "472      2  C.A. 34651  27.7500        S  \n",
       "152      0  A.5. 11206   8.0500        S  \n",
       "73       0        2680  14.4542        C  \n",
       "146      0      350043   7.7958        S  \n",
       "799      1      345773  24.1500        S  "
      ]
     },
     "execution_count": 31,
     "metadata": {},
     "output_type": "execute_result"
    }
   ],
   "source": [
    "original_df.sample(5)"
   ]
  },
  {
   "cell_type": "code",
   "execution_count": 32,
   "metadata": {},
   "outputs": [
    {
     "data": {
      "text/plain": [
       "<AxesSubplot:ylabel='Sex'>"
      ]
     },
     "execution_count": 32,
     "metadata": {},
     "output_type": "execute_result"
    },
    {
     "data": {
      "image/png": "[encoded data removed]",
      "text/plain": [
       "<Figure size 432x288 with 1 Axes>"
      ]
     },
     "metadata": {},
     "output_type": "display_data"
    }
   ],
   "source": [
    "#Pie chart for male and female %\n",
    "original_df.groupby('Sex').size().plot(kind='pie', autopct='%.2f', y=\"Male vs Female %\", ylabel = 'Sex')"
   ]
  },
  {
   "cell_type": "code",
   "execution_count": 33,
   "metadata": {},
   "outputs": [
    {
     "data": {
      "text/plain": [
       "<AxesSubplot:ylabel='Pclass'>"
      ]
     },
     "execution_count": 33,
     "metadata": {},
     "output_type": "execute_result"
    },
    {
     "data": {
      "image/png": "[encoded data removed]",
      "text/plain": [
       "<Figure size 432x288 with 1 Axes>"
      ]
     },
     "metadata": {},
     "output_type": "display_data"
    }
   ],
   "source": [
    "original_df.groupby('Pclass').size().plot(kind='pie', autopct='%.2f', ylabel = 'Pclass')"
   ]
  },
  {
   "cell_type": "markdown",
   "metadata": {},
   "source": [
    "### What is the age average?"
   ]
  },
  {
   "cell_type": "code",
   "execution_count": 34,
   "metadata": {},
   "outputs": [
    {
     "data": {
      "text/plain": [
       "PassengerId      0\n",
       "Survived         0\n",
       "Pclass           0\n",
       "Name             0\n",
       "Sex              0\n",
       "Age            177\n",
       "SibSp            0\n",
       "Parch            0\n",
       "Ticket           0\n",
       "Fare             0\n",
       "Embarked         2\n",
       "dtype: int64"
      ]
     },
     "execution_count": 34,
     "metadata": {},
     "output_type": "execute_result"
    }
   ],
   "source": [
    "#Count number of nans\n",
    "original_df.isna().sum()"
   ]
  },
  {
   "cell_type": "code",
   "execution_count": 35,
   "metadata": {},
   "outputs": [],
   "source": [
    "#Ages without nans\n",
    "df_Ages = original_df[\"Age\"]\n",
    "df_Ages.dropna(inplace = True) #https://pandas.pydata.org/docs/reference/api/pandas.DataFrame.dropna.html"
   ]
  },
  {
   "cell_type": "code",
   "execution_count": 36,
   "metadata": {},
   "outputs": [
    {
     "name": "stdout",
     "output_type": "stream",
     "text": [
      "Number of ages in original data (including Nans): 891\n",
      "Number of ages in original data (excluding Nans): 714\n",
      "Number of ages in df_Ages: 714\n",
      "Number of nans in df_Ages: 0\n"
     ]
    }
   ],
   "source": [
    "#Verify Nans were dropped\n",
    "print(\"Number of ages in original data (including Nans):\", original_df[\"Age\"].count() + original_df[\"Age\"].isna().sum())\n",
    "print(\"Number of ages in original data (excluding Nans):\", original_df[\"Age\"].count())\n",
    "print(\"Number of ages in df_Ages:\", df_Ages.count())\n",
    "print(\"Number of nans in df_Ages:\", df_Ages.isna().sum())"
   ]
  },
  {
   "cell_type": "code",
   "execution_count": 37,
   "metadata": {},
   "outputs": [
    {
     "name": "stdout",
     "output_type": "stream",
     "text": [
      "Calculated mean adult age: 33.58319467554077\n",
      "Rounded mean adult age: 34\n",
      "Calculated mean kid age: 9.041327433628318\n",
      "Rounded mean kid age: 9\n"
     ]
    }
   ],
   "source": [
    "#Calculate mean age of adults (18+)\n",
    "mean_adult_age = df_Ages[df_Ages >= 18].mean() #https://stackoverflow.com/questions/44270272/getting-average-of-rows-in-dataframe-greater-than-or-equal-to-zero\n",
    "print(\"Calculated mean adult age:\",mean_adult_age)\n",
    "print(\"Rounded mean adult age:\", round(mean_adult_age))\n",
    "\n",
    "#Calculate mean age of kids (< 18)\n",
    "mean_kid_age = df_Ages[df_Ages < 18].mean()\n",
    "print(\"Calculated mean kid age:\", mean_kid_age)\n",
    "print(\"Rounded mean kid age:\", round(mean_kid_age))"
   ]
  },
  {
   "cell_type": "code",
   "execution_count": 38,
   "metadata": {},
   "outputs": [
    {
     "data": {
      "text/html": [
       "<div>\n",
       "<style scoped>\n",
       "    .dataframe tbody tr th:only-of-type {\n",
       "        vertical-align: middle;\n",
       "    }\n",
       "\n",
       "    .dataframe tbody tr th {\n",
       "        vertical-align: top;\n",
       "    }\n",
       "\n",
       "    .dataframe thead th {\n",
       "        text-align: right;\n",
       "    }\n",
       "</style>\n",
       "<table border=\"1\" class=\"dataframe\">\n",
       "  <thead>\n",
       "    <tr style=\"text-align: right;\">\n",
       "      <th></th>\n",
       "      <th>Sex</th>\n",
       "      <th>Age</th>\n",
       "    </tr>\n",
       "  </thead>\n",
       "  <tbody>\n",
       "    <tr>\n",
       "      <th>0</th>\n",
       "      <td>male</td>\n",
       "      <td>22.0</td>\n",
       "    </tr>\n",
       "    <tr>\n",
       "      <th>1</th>\n",
       "      <td>female</td>\n",
       "      <td>38.0</td>\n",
       "    </tr>\n",
       "    <tr>\n",
       "      <th>2</th>\n",
       "      <td>female</td>\n",
       "      <td>26.0</td>\n",
       "    </tr>\n",
       "    <tr>\n",
       "      <th>3</th>\n",
       "      <td>female</td>\n",
       "      <td>35.0</td>\n",
       "    </tr>\n",
       "    <tr>\n",
       "      <th>4</th>\n",
       "      <td>male</td>\n",
       "      <td>35.0</td>\n",
       "    </tr>\n",
       "  </tbody>\n",
       "</table>\n",
       "</div>"
      ],
      "text/plain": [
       "      Sex   Age\n",
       "0    male  22.0\n",
       "1  female  38.0\n",
       "2  female  26.0\n",
       "3  female  35.0\n",
       "4    male  35.0"
      ]
     },
     "execution_count": 38,
     "metadata": {},
     "output_type": "execute_result"
    }
   ],
   "source": [
    "#New Data Frame consisting of Ages & Genders\n",
    "df_Sex_Age = pd.concat([original_df[\"Sex\"],original_df[\"Age\"]],axis=1) #https://www.kite.com/python/answers/how-to-create-a-pandas-dataframe-from-columns-in-other-dataframes-in-python\n",
    "df_Sex_Age.head()"
   ]
  },
  {
   "cell_type": "code",
   "execution_count": 39,
   "metadata": {},
   "outputs": [
    {
     "name": "stdout",
     "output_type": "stream",
     "text": [
      "Average of each sex: \n",
      "\n",
      "      Sex        Age\n",
      "0  female  27.915709\n",
      "1    male  30.726645\n",
      "\n",
      "      Sex   Age\n",
      "0  female  28.0\n",
      "1    male  31.0\n"
     ]
    }
   ],
   "source": [
    "#Calculate average ages of each sex (adult and child)\n",
    "print(\"Average of each sex: \")\n",
    "print()\n",
    "\n",
    "average_ages_by_sex = df_Sex_Age.groupby(\"Sex\",as_index=False).Age.mean() #https://stackoverflow.com/questions/41504553/pandas-dataframe-how-to-get-average-of-a-value-over-a-certain-index\n",
    "print(average_ages_by_sex)\n",
    "print()\n",
    "\n",
    "#Round the calculated averages\n",
    "print(round(average_ages_by_sex))"
   ]
  },
  {
   "cell_type": "code",
   "execution_count": 40,
   "metadata": {},
   "outputs": [
    {
     "name": "stdout",
     "output_type": "stream",
     "text": [
      "      Sex   Age\n",
      "0    male  22.0\n",
      "4    male  35.0\n",
      "5    male   NaN\n",
      "6    male  54.0\n",
      "7    male   2.0\n",
      "..    ...   ...\n",
      "883  male  28.0\n",
      "884  male  25.0\n",
      "886  male  27.0\n",
      "889  male  26.0\n",
      "890  male  32.0\n",
      "\n",
      "[577 rows x 2 columns]\n",
      "        Sex   Age\n",
      "1    female  38.0\n",
      "2    female  26.0\n",
      "3    female  35.0\n",
      "8    female  27.0\n",
      "9    female  14.0\n",
      "..      ...   ...\n",
      "880  female  25.0\n",
      "882  female  22.0\n",
      "885  female  39.0\n",
      "887  female  19.0\n",
      "888  female   NaN\n",
      "\n",
      "[314 rows x 2 columns]\n",
      "\n",
      "Average adult male age: 33.937974683544304\n",
      "Average adult male age rounded: 34\n",
      "\n",
      "Average kid male age: 8.85637931034483\n",
      "Average kid male age rounded: 9\n",
      "\n",
      "Average adult female age: 32.90291262135922\n",
      "Average adult female age rounded: 33\n",
      "\n",
      "Average kid female age: 9.236363636363636\n",
      "Average kid female age rounded: 9\n"
     ]
    }
   ],
   "source": [
    "#Dataframe of males (and their ages) only\n",
    "male_ages_df = df_Sex_Age[df_Sex_Age[\"Sex\"]==\"male\"]\n",
    "print(male_ages_df)\n",
    "\n",
    "#Dataframe of females (and their ages) only\n",
    "female_ages_df = df_Sex_Age[df_Sex_Age[\"Sex\"]==\"female\"]\n",
    "print(female_ages_df)\n",
    "\n",
    "#Calculate adult male average age (18+)\n",
    "male_ages = male_ages_df[\"Age\"]\n",
    "adult_male_ages_mean = male_ages[male_ages >= 18].mean()\n",
    "print()\n",
    "print(\"Average adult male age:\", adult_male_ages_mean)\n",
    "print(\"Average adult male age rounded:\", round(adult_male_ages_mean))\n",
    "print()\n",
    "\n",
    "#Calculate kid male average age (< 18)\n",
    "kid_male_ages_mean = male_ages[male_ages < 18].mean()\n",
    "print(\"Average kid male age:\", kid_male_ages_mean)\n",
    "print(\"Average kid male age rounded:\", round(kid_male_ages_mean))\n",
    "print()\n",
    "\n",
    "#Calculate adult female age (18+)\n",
    "female_ages = female_ages_df[\"Age\"]\n",
    "adult_female_ages_mean = female_ages[female_ages >= 18].mean()\n",
    "print(\"Average adult female age:\", adult_female_ages_mean)\n",
    "print(\"Average adult female age rounded:\", round(adult_female_ages_mean))\n",
    "print()\n",
    "\n",
    "#Calculate kid female age (< 18)\n",
    "kid_female_ages_mean = female_ages[female_ages < 18].mean()\n",
    "print(\"Average kid female age:\", kid_female_ages_mean)\n",
    "print(\"Average kid female age rounded:\", round(kid_female_ages_mean))"
   ]
  },
  {
   "cell_type": "code",
   "execution_count": 41,
   "metadata": {},
   "outputs": [
    {
     "name": "stdout",
     "output_type": "stream",
     "text": [
      "Average passenger age: 29.69911764705882\n",
      "Average passenger age rounded: 30\n"
     ]
    }
   ],
   "source": [
    "#Calculate average passenger age\n",
    "avg_age = original_df[\"Age\"].mean()\n",
    "print(\"Average passenger age:\", avg_age)\n",
    "print(\"Average passenger age rounded:\", round(avg_age))"
   ]
  },
  {
   "cell_type": "code",
   "execution_count": 42,
   "metadata": {},
   "outputs": [
    {
     "name": "stdout",
     "output_type": "stream",
     "text": [
      "Standard deviation for age: 14.526497332334044\n",
      "Standard deviation for age rounded to 3 decimal places: 14.526\n"
     ]
    }
   ],
   "source": [
    "#Standard Deviation for age\n",
    "std_age = original_df[\"Age\"].std()\n",
    "print(\"Standard deviation for age:\", std_age)\n",
    "print(\"Standard deviation for age rounded to 3 decimal places:\", round(std_age,3))"
   ]
  },
  {
   "cell_type": "code",
   "execution_count": 43,
   "metadata": {},
   "outputs": [
    {
     "name": "stdout",
     "output_type": "stream",
     "text": [
      "avg_age - std_age =  15.173\n"
     ]
    }
   ],
   "source": [
    "#Average age - Standard Deviation for age\n",
    "print(\"avg_age - std_age = \", round((avg_age - std_age),3))"
   ]
  },
  {
   "cell_type": "markdown",
   "metadata": {},
   "source": [
    "### What to do with missing Ages?"
   ]
  },
  {
   "cell_type": "code",
   "execution_count": 44,
   "metadata": {},
   "outputs": [
    {
     "name": "stdout",
     "output_type": "stream",
     "text": [
      "Is there any missing values in Ages?\n",
      "True\n",
      "\n",
      "How many missing values?\n",
      "177\n",
      "\n",
      "0      False\n",
      "1      False\n",
      "2      False\n",
      "3      False\n",
      "4      False\n",
      "       ...  \n",
      "886    False\n",
      "887    False\n",
      "888     True\n",
      "889    False\n",
      "890    False\n",
      "Name: Age, Length: 891, dtype: bool\n"
     ]
    }
   ],
   "source": [
    "#Checks if there are any missing values in Ages\n",
    "print(\"Is there any missing values in Ages?\")\n",
    "print(original_df['Age'].isnull().values.any())\n",
    "print()\n",
    "\n",
    "print(\"How many missing values?\")\n",
    "print(original_df['Age'].isnull().sum())\n",
    "print()\n",
    "\n",
    "print(original_df['Age'].isnull())"
   ]
  },
  {
   "cell_type": "code",
   "execution_count": 45,
   "metadata": {},
   "outputs": [
    {
     "data": {
      "text/html": [
       "<div>\n",
       "<style scoped>\n",
       "    .dataframe tbody tr th:only-of-type {\n",
       "        vertical-align: middle;\n",
       "    }\n",
       "\n",
       "    .dataframe tbody tr th {\n",
       "        vertical-align: top;\n",
       "    }\n",
       "\n",
       "    .dataframe thead th {\n",
       "        text-align: right;\n",
       "    }\n",
       "</style>\n",
       "<table border=\"1\" class=\"dataframe\">\n",
       "  <thead>\n",
       "    <tr style=\"text-align: right;\">\n",
       "      <th></th>\n",
       "      <th>PassengerId</th>\n",
       "      <th>Survived</th>\n",
       "      <th>Pclass</th>\n",
       "      <th>Name</th>\n",
       "      <th>Sex</th>\n",
       "      <th>Age</th>\n",
       "      <th>SibSp</th>\n",
       "      <th>Parch</th>\n",
       "      <th>Ticket</th>\n",
       "      <th>Fare</th>\n",
       "      <th>Embarked</th>\n",
       "    </tr>\n",
       "  </thead>\n",
       "  <tbody>\n",
       "    <tr>\n",
       "      <th>837</th>\n",
       "      <td>838</td>\n",
       "      <td>0</td>\n",
       "      <td>3</td>\n",
       "      <td>Sirota, Mr. Maurice</td>\n",
       "      <td>male</td>\n",
       "      <td>28</td>\n",
       "      <td>0</td>\n",
       "      <td>0</td>\n",
       "      <td>392092</td>\n",
       "      <td>8.0500</td>\n",
       "      <td>S</td>\n",
       "    </tr>\n",
       "    <tr>\n",
       "      <th>799</th>\n",
       "      <td>800</td>\n",
       "      <td>0</td>\n",
       "      <td>3</td>\n",
       "      <td>Van Impe, Mrs. Jean Baptiste (Rosalie Paula Go...</td>\n",
       "      <td>female</td>\n",
       "      <td>30</td>\n",
       "      <td>1</td>\n",
       "      <td>1</td>\n",
       "      <td>345773</td>\n",
       "      <td>24.1500</td>\n",
       "      <td>S</td>\n",
       "    </tr>\n",
       "    <tr>\n",
       "      <th>434</th>\n",
       "      <td>435</td>\n",
       "      <td>0</td>\n",
       "      <td>1</td>\n",
       "      <td>Silvey, Mr. William Baird</td>\n",
       "      <td>male</td>\n",
       "      <td>50</td>\n",
       "      <td>1</td>\n",
       "      <td>0</td>\n",
       "      <td>13507</td>\n",
       "      <td>55.9000</td>\n",
       "      <td>S</td>\n",
       "    </tr>\n",
       "    <tr>\n",
       "      <th>859</th>\n",
       "      <td>860</td>\n",
       "      <td>0</td>\n",
       "      <td>3</td>\n",
       "      <td>Razi, Mr. Raihed</td>\n",
       "      <td>male</td>\n",
       "      <td>29</td>\n",
       "      <td>0</td>\n",
       "      <td>0</td>\n",
       "      <td>2629</td>\n",
       "      <td>7.2292</td>\n",
       "      <td>C</td>\n",
       "    </tr>\n",
       "    <tr>\n",
       "      <th>318</th>\n",
       "      <td>319</td>\n",
       "      <td>1</td>\n",
       "      <td>1</td>\n",
       "      <td>Wick, Miss. Mary Natalie</td>\n",
       "      <td>female</td>\n",
       "      <td>31</td>\n",
       "      <td>0</td>\n",
       "      <td>2</td>\n",
       "      <td>36928</td>\n",
       "      <td>164.8667</td>\n",
       "      <td>S</td>\n",
       "    </tr>\n",
       "  </tbody>\n",
       "</table>\n",
       "</div>"
      ],
      "text/plain": [
       "     PassengerId  Survived  Pclass  \\\n",
       "837          838         0       3   \n",
       "799          800         0       3   \n",
       "434          435         0       1   \n",
       "859          860         0       3   \n",
       "318          319         1       1   \n",
       "\n",
       "                                                  Name     Sex  Age  SibSp  \\\n",
       "837                                Sirota, Mr. Maurice    male   28      0   \n",
       "799  Van Impe, Mrs. Jean Baptiste (Rosalie Paula Go...  female   30      1   \n",
       "434                          Silvey, Mr. William Baird    male   50      1   \n",
       "859                                   Razi, Mr. Raihed    male   29      0   \n",
       "318                           Wick, Miss. Mary Natalie  female   31      0   \n",
       "\n",
       "     Parch  Ticket      Fare Embarked  \n",
       "837      0  392092    8.0500        S  \n",
       "799      1  345773   24.1500        S  \n",
       "434      0   13507   55.9000        S  \n",
       "859      0    2629    7.2292        C  \n",
       "318      2   36928  164.8667        S  "
      ]
     },
     "execution_count": 45,
     "metadata": {},
     "output_type": "execute_result"
    }
   ],
   "source": [
    "#fills in missing ages based on these 6 conditions \n",
    "#https://stackoverflow.com/questions/52271267/python-groupby-with-two-conditions-and-calculate-the-mean\n",
    "characteristics_columns = ['Survived','Pclass','Sex','Embarked','SibSp','Parch']\n",
    "original_df['Age'] = original_df['Age'].fillna(original_df.groupby(characteristics_columns)['Age'].transform('mean'))\n",
    "\n",
    "#fills in any remaining missing ages with the average age previously found\n",
    "original_df['Age'] = original_df['Age'].fillna(avg_age)\n",
    "\n",
    "#Turns Age into an integer\n",
    "original_df['Age'] = original_df['Age'].astype(int)\n",
    "\n",
    "\n",
    "\n",
    "original_df.sample(5)"
   ]
  },
  {
   "cell_type": "code",
   "execution_count": 46,
   "metadata": {},
   "outputs": [
    {
     "name": "stdout",
     "output_type": "stream",
     "text": [
      "Is there any missing values in Ages?\n",
      "False\n",
      "\n",
      "How many missing values?\n",
      "0\n",
      "\n",
      "0      False\n",
      "1      False\n",
      "2      False\n",
      "3      False\n",
      "4      False\n",
      "       ...  \n",
      "886    False\n",
      "887    False\n",
      "888    False\n",
      "889    False\n",
      "890    False\n",
      "Name: Age, Length: 891, dtype: bool\n"
     ]
    }
   ],
   "source": [
    "#Re-checks if there are still any missing values in Ages\n",
    "print(\"Is there any missing values in Ages?\")\n",
    "print(original_df['Age'].isnull().values.any())\n",
    "print()\n",
    "\n",
    "print(\"How many missing values?\")\n",
    "print(original_df['Age'].isnull().sum())\n",
    "print()\n",
    "\n",
    "print(original_df['Age'].isnull())"
   ]
  },
  {
   "cell_type": "code",
   "execution_count": 47,
   "metadata": {},
   "outputs": [
    {
     "name": "stdout",
     "output_type": "stream",
     "text": [
      "Calculated mean adult age: 33.29933774834437\n",
      "Rounded mean adult age: 33\n",
      "Calculated mean kid age: 9.867647058823529\n",
      "Rounded mean kid age: 10\n"
     ]
    }
   ],
   "source": [
    "#Review means after Age insertions\n",
    "df_Ages = original_df[\"Age\"]\n",
    "\n",
    "#Calculate mean age of adults (18+)\n",
    "mean_adult_age = df_Ages[df_Ages >= 18].mean() #https://stackoverflow.com/questions/44270272/getting-average-of-rows-in-dataframe-greater-than-or-equal-to-zero\n",
    "print(\"Calculated mean adult age:\",mean_adult_age)\n",
    "print(\"Rounded mean adult age:\", round(mean_adult_age))\n",
    "\n",
    "#Calculate mean age of kids (< 18)\n",
    "mean_kid_age = df_Ages[df_Ages < 18].mean()\n",
    "print(\"Calculated mean kid age:\", mean_kid_age)\n",
    "print(\"Rounded mean kid age:\", round(mean_kid_age))"
   ]
  },
  {
   "cell_type": "code",
   "execution_count": 48,
   "metadata": {},
   "outputs": [
    {
     "name": "stdout",
     "output_type": "stream",
     "text": [
      "      Sex        Age\n",
      "0  female  27.187898\n",
      "1    male  31.102253\n",
      "\n",
      "      Sex   Age\n",
      "0  female  27.0\n",
      "1    male  31.0\n"
     ]
    }
   ],
   "source": [
    "#Updates dataframe with new values after missing values filled\n",
    "df_Sex_Age = pd.concat([original_df[\"Sex\"],original_df[\"Age\"]],axis=1)\n",
    "\n",
    "#Average ages by sex after filling in missing values in Ages\n",
    "average_ages_by_sex = df_Sex_Age.groupby(\"Sex\",as_index=False).Age.mean() #https://stackoverflow.com/questions/41504553/pandas-dataframe-how-to-get-average-of-a-value-over-a-certain-index\n",
    "print(average_ages_by_sex)\n",
    "print()\n",
    "\n",
    "#Round the calculated averages\n",
    "print(round(average_ages_by_sex))"
   ]
  },
  {
   "cell_type": "code",
   "execution_count": 49,
   "metadata": {},
   "outputs": [
    {
     "name": "stdout",
     "output_type": "stream",
     "text": [
      "      Sex  Age\n",
      "0    male   22\n",
      "4    male   35\n",
      "5    male   38\n",
      "6    male   54\n",
      "7    male    2\n",
      "..    ...  ...\n",
      "883  male   28\n",
      "884  male   25\n",
      "886  male   27\n",
      "889  male   26\n",
      "890  male   32\n",
      "\n",
      "[577 rows x 2 columns]\n",
      "        Sex  Age\n",
      "1    female   38\n",
      "2    female   26\n",
      "3    female   35\n",
      "8    female   27\n",
      "9    female   14\n",
      "..      ...  ...\n",
      "880  female   25\n",
      "882  female   22\n",
      "885  female   39\n",
      "887  female   19\n",
      "888  female   29\n",
      "\n",
      "[314 rows x 2 columns]\n",
      "\n",
      "Average adult male age: 33.656370656370655\n",
      "Average adult male age rounded: 34\n",
      "\n",
      "Average kid male age: 8.677966101694915\n",
      "Average kid male age rounded: 9\n",
      "\n",
      "Average adult female age: 32.51898734177215\n",
      "Average adult female age rounded: 33\n",
      "\n",
      "Average kid female age: 10.779220779220779\n",
      "Average kid female age rounded: 11\n"
     ]
    }
   ],
   "source": [
    "#Dataframe of males (and their ages) only\n",
    "male_ages_df = df_Sex_Age[df_Sex_Age[\"Sex\"]==\"male\"]\n",
    "print(male_ages_df)\n",
    "\n",
    "#Dataframe of females (and their ages) only\n",
    "female_ages_df = df_Sex_Age[df_Sex_Age[\"Sex\"]==\"female\"]\n",
    "print(female_ages_df)\n",
    "\n",
    "#Calculate adult male average age (18+)\n",
    "male_ages = male_ages_df[\"Age\"]\n",
    "adult_male_ages_mean = male_ages[male_ages >= 18].mean()\n",
    "print()\n",
    "print(\"Average adult male age:\", adult_male_ages_mean)\n",
    "print(\"Average adult male age rounded:\", round(adult_male_ages_mean))\n",
    "print()\n",
    "\n",
    "#Calculate kid male average age (< 18)\n",
    "kid_male_ages_mean = male_ages[male_ages < 18].mean()\n",
    "print(\"Average kid male age:\", kid_male_ages_mean)\n",
    "print(\"Average kid male age rounded:\", round(kid_male_ages_mean))\n",
    "print()\n",
    "\n",
    "#Calculate adult female age (18+)\n",
    "female_ages = female_ages_df[\"Age\"]\n",
    "adult_female_ages_mean = female_ages[female_ages >= 18].mean()\n",
    "print(\"Average adult female age:\", adult_female_ages_mean)\n",
    "print(\"Average adult female age rounded:\", round(adult_female_ages_mean))\n",
    "print()\n",
    "\n",
    "#Calculate kid female age (< 18)\n",
    "kid_female_ages_mean = female_ages[female_ages < 18].mean()\n",
    "print(\"Average kid female age:\", kid_female_ages_mean)\n",
    "print(\"Average kid female age rounded:\", round(kid_female_ages_mean))"
   ]
  },
  {
   "cell_type": "code",
   "execution_count": 50,
   "metadata": {},
   "outputs": [
    {
     "data": {
      "text/html": [
       "<div>\n",
       "<style scoped>\n",
       "    .dataframe tbody tr th:only-of-type {\n",
       "        vertical-align: middle;\n",
       "    }\n",
       "\n",
       "    .dataframe tbody tr th {\n",
       "        vertical-align: top;\n",
       "    }\n",
       "\n",
       "    .dataframe thead th {\n",
       "        text-align: right;\n",
       "    }\n",
       "</style>\n",
       "<table border=\"1\" class=\"dataframe\">\n",
       "  <thead>\n",
       "    <tr style=\"text-align: right;\">\n",
       "      <th></th>\n",
       "      <th>PassengerId</th>\n",
       "      <th>Survived</th>\n",
       "      <th>Pclass</th>\n",
       "      <th>Age</th>\n",
       "      <th>SibSp</th>\n",
       "      <th>Parch</th>\n",
       "      <th>Fare</th>\n",
       "    </tr>\n",
       "  </thead>\n",
       "  <tbody>\n",
       "    <tr>\n",
       "      <th>count</th>\n",
       "      <td>891.000000</td>\n",
       "      <td>891.000000</td>\n",
       "      <td>891.000000</td>\n",
       "      <td>891.000000</td>\n",
       "      <td>891.000000</td>\n",
       "      <td>891.000000</td>\n",
       "      <td>891.000000</td>\n",
       "    </tr>\n",
       "    <tr>\n",
       "      <th>mean</th>\n",
       "      <td>446.000000</td>\n",
       "      <td>0.383838</td>\n",
       "      <td>2.308642</td>\n",
       "      <td>29.722783</td>\n",
       "      <td>0.523008</td>\n",
       "      <td>0.381594</td>\n",
       "      <td>32.204208</td>\n",
       "    </tr>\n",
       "    <tr>\n",
       "      <th>std</th>\n",
       "      <td>257.353842</td>\n",
       "      <td>0.486592</td>\n",
       "      <td>0.836071</td>\n",
       "      <td>13.596700</td>\n",
       "      <td>1.102743</td>\n",
       "      <td>0.806057</td>\n",
       "      <td>49.693429</td>\n",
       "    </tr>\n",
       "    <tr>\n",
       "      <th>min</th>\n",
       "      <td>1.000000</td>\n",
       "      <td>0.000000</td>\n",
       "      <td>1.000000</td>\n",
       "      <td>0.000000</td>\n",
       "      <td>0.000000</td>\n",
       "      <td>0.000000</td>\n",
       "      <td>0.000000</td>\n",
       "    </tr>\n",
       "    <tr>\n",
       "      <th>25%</th>\n",
       "      <td>223.500000</td>\n",
       "      <td>0.000000</td>\n",
       "      <td>2.000000</td>\n",
       "      <td>21.000000</td>\n",
       "      <td>0.000000</td>\n",
       "      <td>0.000000</td>\n",
       "      <td>7.910400</td>\n",
       "    </tr>\n",
       "    <tr>\n",
       "      <th>50%</th>\n",
       "      <td>446.000000</td>\n",
       "      <td>0.000000</td>\n",
       "      <td>3.000000</td>\n",
       "      <td>29.000000</td>\n",
       "      <td>0.000000</td>\n",
       "      <td>0.000000</td>\n",
       "      <td>14.454200</td>\n",
       "    </tr>\n",
       "    <tr>\n",
       "      <th>75%</th>\n",
       "      <td>668.500000</td>\n",
       "      <td>1.000000</td>\n",
       "      <td>3.000000</td>\n",
       "      <td>38.000000</td>\n",
       "      <td>1.000000</td>\n",
       "      <td>0.000000</td>\n",
       "      <td>31.000000</td>\n",
       "    </tr>\n",
       "    <tr>\n",
       "      <th>max</th>\n",
       "      <td>891.000000</td>\n",
       "      <td>1.000000</td>\n",
       "      <td>3.000000</td>\n",
       "      <td>80.000000</td>\n",
       "      <td>8.000000</td>\n",
       "      <td>6.000000</td>\n",
       "      <td>512.329200</td>\n",
       "    </tr>\n",
       "  </tbody>\n",
       "</table>\n",
       "</div>"
      ],
      "text/plain": [
       "       PassengerId    Survived      Pclass         Age       SibSp  \\\n",
       "count   891.000000  891.000000  891.000000  891.000000  891.000000   \n",
       "mean    446.000000    0.383838    2.308642   29.722783    0.523008   \n",
       "std     257.353842    0.486592    0.836071   13.596700    1.102743   \n",
       "min       1.000000    0.000000    1.000000    0.000000    0.000000   \n",
       "25%     223.500000    0.000000    2.000000   21.000000    0.000000   \n",
       "50%     446.000000    0.000000    3.000000   29.000000    0.000000   \n",
       "75%     668.500000    1.000000    3.000000   38.000000    1.000000   \n",
       "max     891.000000    1.000000    3.000000   80.000000    8.000000   \n",
       "\n",
       "            Parch        Fare  \n",
       "count  891.000000  891.000000  \n",
       "mean     0.381594   32.204208  \n",
       "std      0.806057   49.693429  \n",
       "min      0.000000    0.000000  \n",
       "25%      0.000000    7.910400  \n",
       "50%      0.000000   14.454200  \n",
       "75%      0.000000   31.000000  \n",
       "max      6.000000  512.329200  "
      ]
     },
     "execution_count": 50,
     "metadata": {},
     "output_type": "execute_result"
    }
   ],
   "source": [
    "original_df.describe()"
   ]
  },
  {
   "cell_type": "markdown",
   "metadata": {},
   "source": [
    "### Survival Rates"
   ]
  },
  {
   "cell_type": "code",
   "execution_count": 51,
   "metadata": {},
   "outputs": [
    {
     "data": {
      "text/html": [
       "<div>\n",
       "<style scoped>\n",
       "    .dataframe tbody tr th:only-of-type {\n",
       "        vertical-align: middle;\n",
       "    }\n",
       "\n",
       "    .dataframe tbody tr th {\n",
       "        vertical-align: top;\n",
       "    }\n",
       "\n",
       "    .dataframe thead th {\n",
       "        text-align: right;\n",
       "    }\n",
       "</style>\n",
       "<table border=\"1\" class=\"dataframe\">\n",
       "  <thead>\n",
       "    <tr style=\"text-align: right;\">\n",
       "      <th></th>\n",
       "      <th>Pclass</th>\n",
       "      <th>Survived</th>\n",
       "    </tr>\n",
       "  </thead>\n",
       "  <tbody>\n",
       "    <tr>\n",
       "      <th>0</th>\n",
       "      <td>1</td>\n",
       "      <td>0.629630</td>\n",
       "    </tr>\n",
       "    <tr>\n",
       "      <th>1</th>\n",
       "      <td>2</td>\n",
       "      <td>0.472826</td>\n",
       "    </tr>\n",
       "    <tr>\n",
       "      <th>2</th>\n",
       "      <td>3</td>\n",
       "      <td>0.242363</td>\n",
       "    </tr>\n",
       "  </tbody>\n",
       "</table>\n",
       "</div>"
      ],
      "text/plain": [
       "   Pclass  Survived\n",
       "0       1  0.629630\n",
       "1       2  0.472826\n",
       "2       3  0.242363"
      ]
     },
     "execution_count": 51,
     "metadata": {},
     "output_type": "execute_result"
    }
   ],
   "source": [
    "#Percentage of those who survived by passenger class\n",
    "original_df[['Pclass', 'Survived']].groupby(['Pclass'], as_index=False).mean().sort_values(by='Survived', ascending=False)"
   ]
  },
  {
   "cell_type": "code",
   "execution_count": 52,
   "metadata": {},
   "outputs": [
    {
     "data": {
      "text/plain": [
       "<AxesSubplot:xlabel='Pclass', ylabel='Fare'>"
      ]
     },
     "execution_count": 52,
     "metadata": {},
     "output_type": "execute_result"
    },
    {
     "data": {
      "image/png": "[encoded data removed]",
      "text/plain": [
       "<Figure size 432x288 with 1 Axes>"
      ]
     },
     "metadata": {
      "needs_background": "light"
     },
     "output_type": "display_data"
    }
   ],
   "source": [
    "#Price Difference between classes\n",
    "original_df.plot.scatter(x = 'Pclass', y = 'Fare')"
   ]
  },
  {
   "cell_type": "code",
   "execution_count": 53,
   "metadata": {},
   "outputs": [
    {
     "data": {
      "text/plain": [
       "<AxesSubplot:xlabel='Pclass', ylabel='Age'>"
      ]
     },
     "execution_count": 53,
     "metadata": {},
     "output_type": "execute_result"
    },
    {
     "data": {
      "image/png": "[encoded data removed]",
      "text/plain": [
       "<Figure size 432x288 with 1 Axes>"
      ]
     },
     "metadata": {
      "needs_background": "light"
     },
     "output_type": "display_data"
    }
   ],
   "source": [
    "#Age differences between classes\n",
    "original_df.plot.scatter(x = 'Pclass', y = 'Age')"
   ]
  },
  {
   "cell_type": "code",
   "execution_count": 54,
   "metadata": {},
   "outputs": [
    {
     "data": {
      "text/html": [
       "<div>\n",
       "<style scoped>\n",
       "    .dataframe tbody tr th:only-of-type {\n",
       "        vertical-align: middle;\n",
       "    }\n",
       "\n",
       "    .dataframe tbody tr th {\n",
       "        vertical-align: top;\n",
       "    }\n",
       "\n",
       "    .dataframe thead th {\n",
       "        text-align: right;\n",
       "    }\n",
       "</style>\n",
       "<table border=\"1\" class=\"dataframe\">\n",
       "  <thead>\n",
       "    <tr style=\"text-align: right;\">\n",
       "      <th></th>\n",
       "      <th>Sex</th>\n",
       "      <th>Survived</th>\n",
       "    </tr>\n",
       "  </thead>\n",
       "  <tbody>\n",
       "    <tr>\n",
       "      <th>0</th>\n",
       "      <td>female</td>\n",
       "      <td>0.742038</td>\n",
       "    </tr>\n",
       "    <tr>\n",
       "      <th>1</th>\n",
       "      <td>male</td>\n",
       "      <td>0.188908</td>\n",
       "    </tr>\n",
       "  </tbody>\n",
       "</table>\n",
       "</div>"
      ],
      "text/plain": [
       "      Sex  Survived\n",
       "0  female  0.742038\n",
       "1    male  0.188908"
      ]
     },
     "execution_count": 54,
     "metadata": {},
     "output_type": "execute_result"
    }
   ],
   "source": [
    "#percentage of those who survived based on sex\n",
    "original_df[[\"Sex\", \"Survived\"]].groupby(['Sex'], as_index=False).mean().sort_values(by='Survived', ascending=False)"
   ]
  },
  {
   "cell_type": "code",
   "execution_count": 55,
   "metadata": {},
   "outputs": [
    {
     "data": {
      "text/html": [
       "<div>\n",
       "<style scoped>\n",
       "    .dataframe tbody tr th:only-of-type {\n",
       "        vertical-align: middle;\n",
       "    }\n",
       "\n",
       "    .dataframe tbody tr th {\n",
       "        vertical-align: top;\n",
       "    }\n",
       "\n",
       "    .dataframe thead th {\n",
       "        text-align: right;\n",
       "    }\n",
       "</style>\n",
       "<table border=\"1\" class=\"dataframe\">\n",
       "  <thead>\n",
       "    <tr style=\"text-align: right;\">\n",
       "      <th></th>\n",
       "      <th>SibSp</th>\n",
       "      <th>Survived</th>\n",
       "    </tr>\n",
       "  </thead>\n",
       "  <tbody>\n",
       "    <tr>\n",
       "      <th>1</th>\n",
       "      <td>1</td>\n",
       "      <td>0.535885</td>\n",
       "    </tr>\n",
       "    <tr>\n",
       "      <th>2</th>\n",
       "      <td>2</td>\n",
       "      <td>0.464286</td>\n",
       "    </tr>\n",
       "    <tr>\n",
       "      <th>0</th>\n",
       "      <td>0</td>\n",
       "      <td>0.345395</td>\n",
       "    </tr>\n",
       "    <tr>\n",
       "      <th>3</th>\n",
       "      <td>3</td>\n",
       "      <td>0.250000</td>\n",
       "    </tr>\n",
       "    <tr>\n",
       "      <th>4</th>\n",
       "      <td>4</td>\n",
       "      <td>0.166667</td>\n",
       "    </tr>\n",
       "    <tr>\n",
       "      <th>5</th>\n",
       "      <td>5</td>\n",
       "      <td>0.000000</td>\n",
       "    </tr>\n",
       "    <tr>\n",
       "      <th>6</th>\n",
       "      <td>8</td>\n",
       "      <td>0.000000</td>\n",
       "    </tr>\n",
       "  </tbody>\n",
       "</table>\n",
       "</div>"
      ],
      "text/plain": [
       "   SibSp  Survived\n",
       "1      1  0.535885\n",
       "2      2  0.464286\n",
       "0      0  0.345395\n",
       "3      3  0.250000\n",
       "4      4  0.166667\n",
       "5      5  0.000000\n",
       "6      8  0.000000"
      ]
     },
     "execution_count": 55,
     "metadata": {},
     "output_type": "execute_result"
    }
   ],
   "source": [
    "#percentage of those who survived based on family relations\n",
    "original_df[[\"SibSp\", \"Survived\"]].groupby(['SibSp'], as_index=False).mean().sort_values(by='Survived', ascending=False)[[\"SibSp\", \"Survived\"]].groupby(['SibSp'], as_index=False).mean().sort_values(by='Survived', ascending=False)"
   ]
  },
  {
   "cell_type": "code",
   "execution_count": 56,
   "metadata": {
    "scrolled": true
   },
   "outputs": [
    {
     "data": {
      "text/plain": [
       "<seaborn.axisgrid.FacetGrid at 0x20192f4fd00>"
      ]
     },
     "execution_count": 56,
     "metadata": {},
     "output_type": "execute_result"
    },
    {
     "data": {
      "image/png": "[encoded data removed]",
      "text/plain": [
       "<Figure size 432x216 with 2 Axes>"
      ]
     },
     "metadata": {
      "needs_background": "light"
     },
     "output_type": "display_data"
    }
   ],
   "source": [
    "#create histogram based on survived or not\n",
    "hist = sns.FacetGrid(original_df, col = 'Survived')\n",
    "hist.map(plt.hist, 'Age', bins = 20)"
   ]
  },
  {
   "cell_type": "markdown",
   "metadata": {},
   "source": [
    "### Heatmap"
   ]
  },
  {
   "cell_type": "code",
   "execution_count": 57,
   "metadata": {},
   "outputs": [
    {
     "data": {
      "text/plain": [
       "Index(['PassengerId', 'Survived', 'Pclass', 'Age', 'SibSp', 'Parch', 'Fare'], dtype='object')"
      ]
     },
     "execution_count": 57,
     "metadata": {},
     "output_type": "execute_result"
    }
   ],
   "source": [
    "#create variable for numeric features\n",
    "corr = original_df\n",
    "numeric_features = corr.select_dtypes(include=[np.number])\n",
    "numeric_features.columns\n"
   ]
  },
  {
   "cell_type": "code",
   "execution_count": 58,
   "metadata": {},
   "outputs": [
    {
     "data": {
      "text/plain": [
       "<AxesSubplot:title={'center':'Correlation of Numeric Features'}>"
      ]
     },
     "execution_count": 58,
     "metadata": {},
     "output_type": "execute_result"
    },
    {
     "data": {
      "image/png": "[encoded data removed]",
      "text/plain": [
       "<Figure size 1008x864 with 2 Axes>"
      ]
     },
     "metadata": {
      "needs_background": "light"
     },
     "output_type": "display_data"
    }
   ],
   "source": [
    "#create heatmap for numeric features\n",
    "correlation = numeric_features.corr()\n",
    "f, ax = plt.subplots(figsize = (14, 12))\n",
    "plt.title('Correlation of Numeric Features', y=1, size=16)\n",
    "sns.heatmap(correlation, square=True, vmax=0.8)"
   ]
  },
  {
   "cell_type": "markdown",
   "metadata": {},
   "source": [
    "### Histograms"
   ]
  },
  {
   "cell_type": "code",
   "execution_count": 59,
   "metadata": {},
   "outputs": [
    {
     "name": "stderr",
     "output_type": "stream",
     "text": [
      "C:\\Users\\Ryan\\anaconda3\\lib\\site-packages\\seaborn\\axisgrid.py:316: UserWarning: The `size` parameter has been renamed to `height`; please update your code.\n",
      "  warnings.warn(msg, UserWarning)\n"
     ]
    },
    {
     "data": {
      "image/png": "[encoded data removed]",
      "text/plain": [
       "<Figure size 514.88x475.2 with 6 Axes>"
      ]
     },
     "metadata": {
      "needs_background": "light"
     },
     "output_type": "display_data"
    }
   ],
   "source": [
    "#Pclass 3 had the most passengers and the highest mortality rate. \n",
    "# most passengers in pclass 1 survived\n",
    "\n",
    "grid = sns.FacetGrid(original_df, col='Survived', row='Pclass', size=2.2, aspect=1.6)\n",
    "grid.map(plt.hist, 'Age', alpha=.5, bins=20)\n",
    "grid.add_legend();"
   ]
  },
  {
   "cell_type": "code",
   "execution_count": null,
   "metadata": {},
   "outputs": [],
   "source": []
  }
 ],
 "metadata": {
  "kernelspec": {
   "display_name": "Python 3",
   "language": "python",
   "name": "python3"
  },
  "language_info": {
   "codemirror_mode": {
    "name": "ipython",
    "version": 3
   },
   "file_extension": ".py",
   "mimetype": "text/x-python",
   "name": "python",
   "nbconvert_exporter": "python",
   "pygments_lexer": "ipython3",
   "version": "3.8.8"
  }
 },
 "nbformat": 4,
 "nbformat_minor": 4
}
